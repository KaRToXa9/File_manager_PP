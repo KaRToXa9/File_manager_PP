{
 "cells": [
  {
   "cell_type": "code",
   "execution_count": 18,
   "id": "9c13ea62",
   "metadata": {},
   "outputs": [
    {
     "name": "stdout",
     "output_type": "stream",
     "text": [
      "File Файл_4версия.txt is created\n",
      "текст напечатан\n"
     ]
    }
   ],
   "source": [
    "import os\n",
    "import shutil as sh\n",
    "\n",
    "#Создаем файл №1 \n",
    "def create_file(name, text = None):\n",
    "    with open(name, 'w', encoding = 'utf-8') as f:\n",
    "        if text:\n",
    "            f.write(text)\n",
    "    print(f'File {name} is created')\n",
    "#Создание папки\n",
    "def cr_folder(name):\n",
    "    try:\n",
    "        os.mkdir(name)\n",
    "    except FileExistsError:\n",
    "        print('This folder already exists')\n",
    "    print(f'папка {name} создана')\n",
    "\n",
    "    \n",
    "#Удаляем файл/папку №2,7\n",
    "def delete_file_dir(name):\n",
    "    if os.path.isdir(name):\n",
    "        os.rmdir(name)\n",
    "    else:\n",
    "        os.remove(name)\n",
    "    print(f'файл с {name} удален')\n",
    "    \n",
    "##### Запись текста в файл №5\n",
    "def wr_file(name,t):\n",
    "    f = open(name,'w')  # открытие в режиме записи\n",
    "    f.write(t)  # запись Hello World в файл\n",
    "    f.close()\n",
    "    print('текст напечатан')\n",
    "### перемещение между папками №3\n",
    "def change_dir(name):\n",
    "    os.chdir(name)\n",
    "    print('Смена папки')\n",
    "\n",
    "\n",
    "#Считываем данные файла № 6\n",
    "def open_file(name):\n",
    "    print(f'Файл  {name} открыт')\n",
    "    with open(name, 'r') as f:\n",
    "        for line in f:\n",
    "            print(line)\n",
    "            \n",
    "#Копируем файл/папку\n",
    "def copy_file(name, new_name):\n",
    "    if os.path.isdir(name):\n",
    "        try:\n",
    "            sh.copytree(name, new_name)\n",
    "        except FileExistsError:\n",
    "            print('This folder already exists')\n",
    "    else:\n",
    "        sh.copy(name, new_name)\n",
    "    print(f'Файл {name} был копирован {new_name}')\n",
    "    \n",
    "###### перемещение файлов №9  \n",
    "def replace_file(name,place):\n",
    "    os.replace(name, place)\n",
    "    print(f'Файл {name} перемещен в {place}')\n",
    "\n",
    "#Переименовываем файл/папку № 10\n",
    "def rename_file(name, new_name):\n",
    "    os.rename(name, new_name)\n",
    "    print(f'Файл {name} переименован {new_name}')\n",
    "    \n",
    "def return_indirectory():\n",
    "    pass\n",
    "if __name__ == '__main__':\n",
    "    create_file('Файл_4версия.txt')\n",
    "    wr_file('Файл_4версия.txt','hellow')\n",
    "    \n",
    "    #replace_file('Файл_тестовый.txt','C:/Users/Lenovo/Practicum/Файл_тестовый.txt')\n"
   ]
  },
  {
   "cell_type": "code",
   "execution_count": null,
   "id": "3296607a",
   "metadata": {},
   "outputs": [],
   "source": []
  },
  {
   "cell_type": "code",
   "execution_count": null,
   "id": "7f98d55e",
   "metadata": {},
   "outputs": [],
   "source": []
  }
 ],
 "metadata": {
  "kernelspec": {
   "display_name": "Python 3",
   "language": "python",
   "name": "python3"
  },
  "language_info": {
   "codemirror_mode": {
    "name": "ipython",
    "version": 3
   },
   "file_extension": ".py",
   "mimetype": "text/x-python",
   "name": "python",
   "nbconvert_exporter": "python",
   "pygments_lexer": "ipython3",
   "version": "3.8.8"
  }
 },
 "nbformat": 4,
 "nbformat_minor": 5
}
